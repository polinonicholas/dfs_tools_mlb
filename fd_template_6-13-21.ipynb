{
 "cells": [
  {
   "cell_type": "code",
   "execution_count": null,
   "id": "eee32156",
   "metadata": {
    "scrolled": true
   },
   "outputs": [],
   "source": [
    "from dfs_tools_mlb.compile.fanduel import FDSlate\n",
    "import pandas as pd\n",
    "from dfs_tools_mlb.utils.time import time_frames as tf\n",
    "from dfs_tools_mlb.compile.stats_mlb import get_statcast_p, get_p_diff, get_statcast_h\n",
    "from dfs_tools_mlb import settings\n",
    "from dfs_tools_mlb.utils.storage import pickle_path\n",
    "import pickle\n",
    "pd.set_option('display.max_columns', None)\n",
    "pd.set_option('display.max_rows', None)"
   ]
  },
  {
   "cell_type": "code",
   "execution_count": null,
   "id": "bddead97",
   "metadata": {},
   "outputs": [],
   "source": [
    "s=FDSlate(\n",
    "          p_fades = [],\n",
    "          h_fades = [],\n",
    "          salary_batting_order=5,\n",
    "          )"
   ]
  },
  {
   "cell_type": "code",
   "execution_count": null,
   "id": "3dec5e91",
   "metadata": {
    "scrolled": false
   },
   "outputs": [],
   "source": [
    "hitters = s.get_hitters()\n",
    "pitchers = s.get_pitchers()\n",
    "hitter_mlb_ids = hitters[['name', 'mlb_id']]"
   ]
  },
  {
   "cell_type": "code",
   "execution_count": null,
   "id": "57050f2c",
   "metadata": {},
   "outputs": [],
   "source": [
    "lineups = s.build_lineups(\n",
    "                      info_only = True,\n",
    "                      custom_stacks_info = None,\n",
    "                      median_pitcher_salary = None,\n",
    "                      low_pitcher_salary = None,\n",
    "                      high_pitcher_salary = None,\n",
    "                      max_pitcher_salary = None,\n",
    "                      median_team_salary = None,\n",
    "                      low_stack_salary = None,\n",
    "                      high_stack_salary = None,\n",
    "                      max_stack_salary = None,\n",
    "                      stack_salary_pairing_cutoff=1,\n",
    "                      stack_max_pair = 1,\n",
    "                      \n",
    "                      lus = 150, \n",
    "                      index_track = 0, \n",
    "                      non_random_stack_start=0,\n",
    "                      \n",
    "                      max_lu_total = 150,\n",
    "                      variance = 0, \n",
    "                      below_avg_count = 0,\n",
    "                      below_order_count = 135,\n",
    "                      risk_limit = 125,\n",
    "                      of_count_adjust = 0,\n",
    "                      max_lu_stack = 50, \n",
    "                      \n",
    "                      \n",
    "                      stack_size = 4,\n",
    "                      stack_sample = 5, \n",
    "                      \n",
    "                      \n",
    "                      fallback_stack_sample = 6,\n",
    "                      stack_expand_limit = 20,\n",
    "                      \n",
    "                      max_order=7,\n",
    "                      non_stack_max_order=6, \n",
    "                     \n",
    "                      non_stack_quantile = .9, \n",
    "                      high_salary_quantile = .9,\n",
    "                      \n",
    "                      secondary_stack_cut = 0,\n",
    "                      no_surplus_cut = 0,\n",
    "                      \n",
    "                      max_sal = 35000,\n",
    "                      util_replace_filt = 200,\n",
    "                      single_stack_surplus = 400,\n",
    "                      double_stack_surplus = 400,\n",
    "                      pitcher_surplus = 1000,\n",
    "                      \n",
    "                      \n",
    "                      fill_high_salary_first = False,\n",
    "                      select_max_pitcher = True,\n",
    "                      no_surplus_secondary_stacks=True,\n",
    "                      find_cheap_stacks = True,\n",
    "                      always_pitcher_first=True,\n",
    "                      enforce_pitcher_surplus = True,\n",
    "                      enforce_hitter_surplus = True,\n",
    "                      filter_last_replaced=False,\n",
    "                      filter_last_lu = False,\n",
    "                      always_replace_pitcher_lock=False,\n",
    "                      p_sal_stack_filter = True,\n",
    "                      remove_positions = None,\n",
    "                      \n",
    "                      exempt=[],\n",
    "                      all_in=[],\n",
    "                      lock = [],\n",
    "                      #pitcher\n",
    "                      no_combos = [],\n",
    "                      #position\n",
    "                      never_replace=[],\n",
    "                      x_fallback = [],\n",
    "                      stack_only = [],\n",
    "                      limit_risk = [],\n",
    "                      #stacks/h\n",
    "                      no_combine = [],\n",
    "                      always_replace_first = [],\n",
    "                      custom_counts={},\n",
    "                      custom_pitchers = None,\n",
    "                      custom_stacks = None,\n",
    "                      custom_secondary = None,\n",
    "                      )"
   ]
  },
  {
   "cell_type": "code",
   "execution_count": null,
   "id": "86fa8028",
   "metadata": {},
   "outputs": [],
   "source": [
    "#dict p_df.index: p_df: lineups to be in\n",
    "default_pitcher = s.p_df()['points'].to_dict()"
   ]
  },
  {
   "cell_type": "code",
   "execution_count": null,
   "id": "009f7595",
   "metadata": {},
   "outputs": [],
   "source": [
    "# # team: stacks to build\n",
    "default_stacks = s.default_stack_dict"
   ]
  },
  {
   "cell_type": "code",
   "execution_count": null,
   "id": "834681c4",
   "metadata": {},
   "outputs": [],
   "source": [
    "all_stacks = s.points_df()[[\"raw_points\", \"points\",\"salary\", \"sp_mu\", \"raw_talent\",\n",
    "                            \"ump_avg\", \"venue_avg\", \"env_avg\", \"sp_avg\", \"mz\", 'z']].sort_values(by='mz', ascending=False)"
   ]
  },
  {
   "cell_type": "code",
   "execution_count": null,
   "id": "998cadf3",
   "metadata": {},
   "outputs": [],
   "source": [
    "all_pitchers = s.p_df()[['name', 'team','points', 'fd_salary', 'pitches_start', 'mu','raw_mu', 'k_pred', 'k_pred_raw', \n",
    "                         'fd_id', 'venue_avg', 'ump_avg', 'venue_temp', 'exp_ps_raw', 'exp_inn', 'fav', 'env_points', 'mz', 'z']].sort_values(by='mz', ascending=False)"
   ]
  },
  {
   "cell_type": "code",
   "execution_count": null,
   "id": "678c33f6",
   "metadata": {},
   "outputs": [],
   "source": [
    "#get pitcher statcast info for slate\n",
    "pitcher_statcast_file = pickle_path(name=f\"pitcher_statcast_{tf.today}_{s.slate_number}\", directory=settings.FD_DIR)\n",
    "pitcher_statcast_path = settings.FD_DIR.joinpath(pitcher_statcast_file)\n",
    "if pitcher_statcast_path.exists():\n",
    "    pitcher_statcast = pd.read_pickle(pitcher_statcast_path)\n",
    "    \n",
    "else:\n",
    "    pitcher_statcast = pd.DataFrame(columns=['name',\n",
    "                                             'spin',\n",
    "                                             'pc',\n",
    "                                             'speed',\n",
    "                                             'launch',\n",
    "                                             'speed_diff',\n",
    "                                             'spin_diff',\n",
    "                                             'launch_diff',\n",
    "                                             'last_speed',\n",
    "                                             'last_spin',\n",
    "                                             'last_launch'])\n",
    "    for i_d in pitchers['mlb_id'].values:\n",
    "        try:\n",
    "            p = get_statcast_p(int(i_d), 2021)\n",
    "            p_diff = get_p_diff(int(i_d), 2020, 2021, filt1='', filt2='')\n",
    "            last_game = p[p['date'] == p['date'].max()]\n",
    "            \n",
    "            row = [pitchers.loc[pitchers['mlb_id'] == i_d, 'name'].item(),\n",
    "                   p['releaseSpinRate'].mean(),\n",
    "                   len(p['pitch'].unique()),\n",
    "                   p['effectiveSpeed'].max(),\n",
    "                   p['launchAngle'].mean(),\n",
    "                   p_diff.get('speed'),\n",
    "                   p_diff.get('spin'),\n",
    "                   p_diff.get('launch'),\n",
    "                   last_game['effectiveSpeed'].max(),\n",
    "                   last_game['releaseSpinRate'].mean(),\n",
    "                   last_game['launchAngle'].mean(),\n",
    "                   \n",
    "                   ]\n",
    "        except KeyError:\n",
    "               continue\n",
    "        to_append = row\n",
    "        df_length = len(pitcher_statcast)\n",
    "        pitcher_statcast.loc[df_length] = to_append\n",
    "    pitcher_statcast = pitcher_statcast.set_index('name')\n",
    "    with open(pitcher_statcast_file, \"wb\") as f:\n",
    "        pickle.dump(pitcher_statcast, f)\n",
    "pitcher_statcast['speed_last_speed'] = pitcher_statcast['last_speed'] - pitcher_statcast['speed']\n",
    "pitcher_statcast"
   ]
  },
  {
   "cell_type": "code",
   "execution_count": null,
   "id": "471e615e",
   "metadata": {},
   "outputs": [],
   "source": [
    "position_sort_key = 'points'\n",
    "first = s.first_df[['name', 'points', 'exp_ps_sp_pa', 'exp_ps_sp_raw', 'fd_salary']].sort_values(by=position_sort_key, ascending=False)\n",
    "second = s.second_df[['name', 'points', 'exp_ps_sp_pa', 'exp_ps_sp_raw', 'fd_salary']].sort_values(by=position_sort_key, ascending=False)\n",
    "ss = s.ss_df[['name', 'points', 'exp_ps_sp_pa', 'exp_ps_sp_raw', 'fd_salary']].sort_values(by=position_sort_key, ascending=False)\n",
    "third = s.third_df[['name', 'points', 'exp_ps_sp_pa', 'exp_ps_sp_raw', 'fd_salary']].sort_values(by=position_sort_key, ascending=False)\n",
    "of = s.of_df[['name', 'points', 'exp_ps_sp_pa', 'exp_ps_sp_raw', 'fd_salary']].sort_values(by=position_sort_key, ascending=False)\n",
    "util = s.util_df[['name', 'points', 'exp_ps_sp_pa', 'exp_ps_sp_raw', 'fd_salary']].sort_values(by=position_sort_key, ascending=False)"
   ]
  },
  {
   "cell_type": "code",
   "execution_count": null,
   "id": "a67bf1f3",
   "metadata": {},
   "outputs": [],
   "source": [
    "#lookup individual hitter statcast\n",
    "player_name = 'brinson'\n",
    "hitter_statcast_time = str(tf.fifteen_days)\n",
    "hitter_mlb_ids[hitter_mlb_ids['name'].str.lower().str.contains(player_name)]\n",
    "\n",
    "hitter_plays = get_statcast_h(621446, 2021)\n",
    "filtered_hitter_plays = hitter_plays[(hitter_plays['date'] >= hitter_statcast_time)].reset_index()\n",
    "filtered_hitter_plays['distance'].count()\n",
    "filtered_hitter_plays.describe()"
   ]
  },
  {
   "cell_type": "code",
   "execution_count": null,
   "id": "e28bfb96",
   "metadata": {},
   "outputs": [],
   "source": [
    "#AFTER BUILDING LINEUPS\n",
    "pc_df = s.p_counts()\n",
    "pc_index = pc_df['t_count'].nlargest(60).index\n",
    "hc_df = s.h_counts()\n",
    "hc_index = hc_df['t_count'].nlargest(60).index\n",
    "pitcher_counts = pc_df.loc[pc_index, ['name', 't_count', 'fd_salary', 'team', 'fd_id','points','pitches_start', 'batters_faced_sp', 'exp_ps_raw']]\n",
    "hitter_counts = hc_df.loc[hc_index, ['name', 't_count',  'fd_salary', 'order',  'fd_position', 'fd_id', 'team', 'points', 'fd_wps_pa' ]].set_index('name') \n",
    "\n",
    "s.finalize_entries()  "
   ]
  },
  {
   "cell_type": "code",
   "execution_count": null,
   "id": "06614fa8",
   "metadata": {},
   "outputs": [],
   "source": [
    "s.stacks_df()"
   ]
  },
  {
   "cell_type": "code",
   "execution_count": null,
   "id": "3d7a9068",
   "metadata": {},
   "outputs": [],
   "source": []
  },
  {
   "cell_type": "code",
   "execution_count": null,
   "id": "079c3d55",
   "metadata": {},
   "outputs": [],
   "source": []
  }
 ],
 "metadata": {
  "kernelspec": {
   "display_name": "Python 3",
   "language": "python",
   "name": "python3"
  },
  "language_info": {
   "codemirror_mode": {
    "name": "ipython",
    "version": 3
   },
   "file_extension": ".py",
   "mimetype": "text/x-python",
   "name": "python",
   "nbconvert_exporter": "python",
   "pygments_lexer": "ipython3",
   "version": "3.8.5"
  }
 },
 "nbformat": 4,
 "nbformat_minor": 5
}
